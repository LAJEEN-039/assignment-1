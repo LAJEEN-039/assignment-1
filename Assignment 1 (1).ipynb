{
 "cells": [
  {
   "cell_type": "code",
   "execution_count": null,
   "id": "8188aad8-a0f4-4a59-b9ae-9066c8de9d1e",
   "metadata": {},
   "outputs": [],
   "source": [
    "#LAJEEN ADNAN \n",
    "#FA24-BBD-039\n",
    "#ASSIGNMENT:1"
   ]
  },
  {
   "cell_type": "code",
   "execution_count": 1,
   "id": "951aa637-6e65-4eba-a0b4-ea33aded60d6",
   "metadata": {},
   "outputs": [
    {
     "name": "stdout",
     "output_type": "stream",
     "text": [
      "[1, 3, 5, 7, 9, 11]\n"
     ]
    }
   ],
   "source": [
    "#Question:1 \n",
    "number=[1,3,5,7,9,11]\n",
    "print(number)"
   ]
  },
  {
   "cell_type": "code",
   "execution_count": 3,
   "id": "e475f9db-c998-4ad4-96ff-0c1ac8846fa3",
   "metadata": {},
   "outputs": [
    {
     "name": "stdout",
     "output_type": "stream",
     "text": [
      "96\n"
     ]
    }
   ],
   "source": [
    "#Question:2\n",
    "num1=64\n",
    "num2=32\n",
    "print(num1+num2)"
   ]
  },
  {
   "cell_type": "code",
   "execution_count": 5,
   "id": "1230419a-deb0-49bc-9222-8ae1a7b55aaa",
   "metadata": {},
   "outputs": [
    {
     "name": "stdin",
     "output_type": "stream",
     "text": [
      "Enter the number 40\n",
      "Enter the number 20\n"
     ]
    },
    {
     "name": "stdout",
     "output_type": "stream",
     "text": [
      "60\n"
     ]
    }
   ],
   "source": [
    "#Question:3\n",
    "x=int(input(\"Enter the number\"))\n",
    "y=int(input(\"Enter the number\"))\n",
    "print(x+y)"
   ]
  },
  {
   "cell_type": "code",
   "execution_count": 7,
   "id": "a75a904e-e0cd-41c3-b102-ab6f09f7324f",
   "metadata": {},
   "outputs": [
    {
     "name": "stdout",
     "output_type": "stream",
     "text": [
      "Lucky\n"
     ]
    }
   ],
   "source": [
    "#Question:4\n",
    "word=\"Lucky\"\n",
    "print(word)"
   ]
  },
  {
   "cell_type": "code",
   "execution_count": 11,
   "id": "05bd181c-f432-41f5-8d1b-c91330ddb822",
   "metadata": {},
   "outputs": [
    {
     "name": "stdin",
     "output_type": "stream",
     "text": [
      "Enter the day:  13\n",
      "Enter the month:  11\n",
      "Enter the year:  2005\n"
     ]
    },
    {
     "name": "stdout",
     "output_type": "stream",
     "text": [
      "Today is 13 / 11 / 2005\n"
     ]
    }
   ],
   "source": [
    "#Question:5\n",
    "day= int(input(\"Enter the day: \"))\n",
    "month= int(input(\"Enter the month: \"))\n",
    "year= int(input(\"Enter the year: \"))\n",
    "print(\"Today is\", day, \"/\", month, \"/\", year)"
   ]
  },
  {
   "cell_type": "code",
   "execution_count": 13,
   "id": "7d38a801-f6bd-4120-bc3b-0bc1c3f2df54",
   "metadata": {},
   "outputs": [
    {
     "name": "stdin",
     "output_type": "stream",
     "text": [
      "Enter the number 45567890\n"
     ]
    },
    {
     "name": "stdout",
     "output_type": "stream",
     "text": [
      "45567890\n"
     ]
    }
   ],
   "source": [
    "#Question:6\n",
    "phone_number=int(input(\"Enter the number\"))\n",
    "print(phone_number)"
   ]
  },
  {
   "cell_type": "code",
   "execution_count": null,
   "id": "0f3f6e78-d4b6-454f-afb4-5c0377a3b0df",
   "metadata": {},
   "outputs": [],
   "source": []
  }
 ],
 "metadata": {
  "kernelspec": {
   "display_name": "Python 3 (ipykernel)",
   "language": "python",
   "name": "python3"
  },
  "language_info": {
   "codemirror_mode": {
    "name": "ipython",
    "version": 3
   },
   "file_extension": ".py",
   "mimetype": "text/x-python",
   "name": "python",
   "nbconvert_exporter": "python",
   "pygments_lexer": "ipython3",
   "version": "3.12.4"
  }
 },
 "nbformat": 4,
 "nbformat_minor": 5
}
